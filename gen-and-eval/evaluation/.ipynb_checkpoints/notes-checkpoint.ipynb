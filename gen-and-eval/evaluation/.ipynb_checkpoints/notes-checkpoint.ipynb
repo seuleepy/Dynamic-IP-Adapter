{
 "cells": [
  {
   "cell_type": "markdown",
   "id": "dd4eaac4-6ade-417d-aee0-c33ce46a9988",
   "metadata": {},
   "source": [
    "clip_*_score.py 만들기 전에 확인"
   ]
  },
  {
   "cell_type": "code",
   "execution_count": 4,
   "id": "6b13b2b5-babf-4b29-9014-91be05d256f9",
   "metadata": {},
   "outputs": [],
   "source": [
    "from PIL import Image\n",
    "import torch\n",
    "import clip"
   ]
  },
  {
   "cell_type": "code",
   "execution_count": 5,
   "id": "7946877a-bbcf-4fb8-b9d7-eed47732b978",
   "metadata": {},
   "outputs": [],
   "source": [
    "image = Image.open(\"../inference_output/sd_v15/constant_05/backpack/prompt_00_image_00.jpg\")\n",
    "model, preprocess = clip.load(\"ViT-L/14\")\n",
    "image = preprocess(image).unsqueeze(0).to(\"cuda:0\")\n",
    "image_features = model.encode_image(image)"
   ]
  },
  {
   "cell_type": "code",
   "execution_count": 8,
   "id": "d935b101-a669-4a6b-b0e0-02d2ef133a2a",
   "metadata": {},
   "outputs": [],
   "source": [
    "score_matrix = image_features @ image_features.T"
   ]
  },
  {
   "cell_type": "code",
   "execution_count": 9,
   "id": "c0f0fac5-0545-47b1-8f09-9af8e2232a50",
   "metadata": {},
   "outputs": [
    {
     "data": {
      "text/plain": [
       "device(type='cuda', index=0)"
      ]
     },
     "execution_count": 9,
     "metadata": {},
     "output_type": "execute_result"
    }
   ],
   "source": [
    "score_matrix.device"
   ]
  }
 ],
 "metadata": {
  "kernelspec": {
   "display_name": "Python [conda env:ip-adapter-kcs]",
   "language": "python",
   "name": "conda-env-ip-adapter-kcs-py"
  },
  "language_info": {
   "codemirror_mode": {
    "name": "ipython",
    "version": 3
   },
   "file_extension": ".py",
   "mimetype": "text/x-python",
   "name": "python",
   "nbconvert_exporter": "python",
   "pygments_lexer": "ipython3",
   "version": "3.12.5"
  }
 },
 "nbformat": 4,
 "nbformat_minor": 5
}
