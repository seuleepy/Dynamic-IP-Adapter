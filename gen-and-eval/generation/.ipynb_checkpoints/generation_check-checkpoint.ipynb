{
 "cells": [
  {
   "cell_type": "markdown",
   "id": "3d18f668-8f35-40cc-9f87-ae616caa9f54",
   "metadata": {},
   "source": [
    "# Generation check"
   ]
  },
  {
   "cell_type": "code",
   "execution_count": 15,
   "id": "58c7fa02-1b3b-4e2a-9dc2-aca651680502",
   "metadata": {},
   "outputs": [],
   "source": [
    "MODEL_LIST = [\"constant_05\", \"constant_10\", \"linear\", \"relu_100\", \"relu_500\", \"relu_900\", \"sigmoid\", \"sine\"]"
   ]
  },
  {
   "cell_type": "code",
   "execution_count": 27,
   "id": "c8906999-2004-48e0-9482-2b902c991df9",
   "metadata": {},
   "outputs": [
    {
     "name": "stdout",
     "output_type": "stream",
     "text": [
      "constant_05 directory count: 30\n",
      "constant_05 file count: 3000\n",
      "constant_10 directory count: 30\n",
      "constant_10 file count: 3000\n",
      "linear directory count: 30\n",
      "linear file count: 3000\n",
      "relu_100 directory count: 30\n",
      "relu_100 file count: 3000\n",
      "relu_500 directory count: 30\n",
      "relu_500 file count: 3000\n",
      "relu_900 directory count: 30\n",
      "relu_900 file count: 3000\n",
      "sigmoid directory count: 30\n",
      "sigmoid file count: 3000\n",
      "sine directory count: 30\n",
      "sine file count: 3000\n"
     ]
    }
   ],
   "source": [
    "model_path = \"./{0}\"\n",
    "for model in MODEL_LIST:\n",
    "    this_model_path = model_path.format(model)\n",
    "    dir_len = sum(1 for item in os.listdir(this_model_path) if os.path.isdir(this_model_path))\n",
    "    file_len = sum(len(files) for _, _, files in os.walk(this_model_path))\n",
    "    print(\"{0} directory count:\".format(model), dir_len)\n",
    "    print(\"{0} file count:\".format(model), file_len)"
   ]
  }
 ],
 "metadata": {
  "kernelspec": {
   "display_name": "Python [conda env:ip-adapter-kcs]",
   "language": "python",
   "name": "conda-env-ip-adapter-kcs-py"
  },
  "language_info": {
   "codemirror_mode": {
    "name": "ipython",
    "version": 3
   },
   "file_extension": ".py",
   "mimetype": "text/x-python",
   "name": "python",
   "nbconvert_exporter": "python",
   "pygments_lexer": "ipython3",
   "version": "3.12.5"
  }
 },
 "nbformat": 4,
 "nbformat_minor": 5
}
